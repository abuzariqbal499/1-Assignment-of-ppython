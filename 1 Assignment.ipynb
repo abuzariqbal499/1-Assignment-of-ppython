{
 "cells": [
  {
   "cell_type": "code",
   "execution_count": 6,
   "metadata": {},
   "outputs": [],
   "source": [
    "name = \"'Ali Raza'\"\n",
    "className = \"Artificial Intelligence\"\n",
    "age = 18\n",
    "univercityname = \"Harvard univercity\""
   ]
  },
  {
   "cell_type": "code",
   "execution_count": 7,
   "metadata": {
    "scrolled": false
   },
   "outputs": [
    {
     "name": "stdout",
     "output_type": "stream",
     "text": [
      "Hello 'Ali Raza'\n",
      "Your application is accepted for Artificial Intelligence in Harvard univercity\n"
     ]
    }
   ],
   "source": [
    "message = \"Hello {}\\nYour application is accepted for {} in {}\".format(name, className, univercityname)\n",
    "print(message)\n"
   ]
  },
  {
   "cell_type": "code",
   "execution_count": 11,
   "metadata": {},
   "outputs": [
    {
     "name": "stdout",
     "output_type": "stream",
     "text": [
      " 'Ali Raza' are you in Harvard univercity\n"
     ]
    }
   ],
   "source": [
    "message = \" {} are you in {}\".format(name, univercityname)\n",
    "print(message)"
   ]
  },
  {
   "cell_type": "code",
   "execution_count": null,
   "metadata": {},
   "outputs": [],
   "source": []
  }
 ],
 "metadata": {
  "kernelspec": {
   "display_name": "Python 3",
   "language": "python",
   "name": "python3"
  },
  "language_info": {
   "codemirror_mode": {
    "name": "ipython",
    "version": 3
   },
   "file_extension": ".py",
   "mimetype": "text/x-python",
   "name": "python",
   "nbconvert_exporter": "python",
   "pygments_lexer": "ipython3",
   "version": "3.7.4"
  }
 },
 "nbformat": 4,
 "nbformat_minor": 2
}
